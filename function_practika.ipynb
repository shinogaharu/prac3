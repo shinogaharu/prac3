{
 "cells": [
  {
   "cell_type": "markdown",
   "metadata": {},
   "source": [
    "Вы работаете секретарем и вам постоянно приходят различные документы. Вы должны быть очень внимательны, чтобы не потерять ни один документ. Каталог документов хранится в следующем виде:"
   ]
  },
  {
   "cell_type": "code",
   "execution_count": 5,
   "metadata": {},
   "outputs": [],
   "source": [
    "documents = [\n",
    "    {'type': 'passport', 'number': '2207 876234', 'name': 'Василий Гупкин'},\n",
    "    {'type': 'invoice', 'number': '11-2', 'name': 'Геннадий Покемонов'},\n",
    "    {'type': 'insurance', 'number': '10006', 'name': 'Аристарх Павлов'}\n",
    "]"
   ]
  },
  {
   "cell_type": "code",
   "execution_count": 7,
   "metadata": {},
   "outputs": [
    {
     "name": "stdout",
     "output_type": "stream",
     "text": [
      "{'type': 'passport', 'number': '2207 876234', 'name': 'Василий Гупкин'}\n",
      "{'type': 'invoice', 'number': '11-2', 'name': 'Геннадий Покемонов'}\n",
      "{'type': 'insurance', 'number': '10006', 'name': 'Аристарх Павлов'}\n"
     ]
    }
   ],
   "source": [
    "def print_documents(documents):\n",
    "    for doc in documents:\n",
    "        print(doc)\n",
    "print_documents(documents)"
   ]
  },
  {
   "cell_type": "markdown",
   "metadata": {},
   "source": [
    "Перечень полок, на которых находятся документы хранится в следующем виде:"
   ]
  },
  {
   "cell_type": "code",
   "execution_count": 8,
   "metadata": {},
   "outputs": [],
   "source": [
    "directories = {\n",
    "    '1': ['2207 876234', '11-2'],\n",
    "    '2': ['10006'],\n",
    "    '3': []\n",
    "}"
   ]
  },
  {
   "cell_type": "code",
   "execution_count": 10,
   "metadata": {},
   "outputs": [
    {
     "name": "stdout",
     "output_type": "stream",
     "text": [
      "1 ['2207 876234', '11-2']\n",
      "2 ['10006']\n",
      "3 []\n"
     ]
    }
   ],
   "source": [
    "def print_directories(directories):\n",
    "    for key,value in directories.items():\n",
    "        print(key,value)\n",
    "print_directories(directories)"
   ]
  },
  {
   "cell_type": "markdown",
   "metadata": {},
   "source": [
    "Необходимо реализовать пользовательские команды (внимание! это не название функций, которые должны быть выразительными, а команды, которые вводит пользователь, чтобы получить необходимый результат):\n",
    "\n",
    "* p – people – команда, которая спросит номер документа и выведет имя человека, которому он принадлежит;\n",
    "* s – shelf – команда, которая спросит номер документа и выведет номер полки, на которой он находится\n",
    "Правильно обработайте ситуации, когда пользователь будет вводить несуществующий документ.\n",
    "* l – list – команда, которая выведет список всех документов в формате\n",
    "**passport \"2207 876234\" \"Василий Гупкин\"**\n",
    "* as – add shelf – команда, которая спросит номер новой полки и добавит ее в перечень. Предусмотрите случай, когда пользователь добавляет полку, которая уже существует.\n",
    "* d – delete – команда, которая спросит номер документа и удалит его из каталога и из перечня полок. Предусмотрите сценарий, когда пользователь вводит несуществующий документ;\n",
    "* m – move – команда, которая спросит номер документа и целевую полку и переместит его с текущей полки на целевую. Корректно обработайте кейсы, когда пользователь пытается переместить несуществующий документ или переместить документ на несуществующую полку;\n",
    "*  add – команда, которая добавит новый документ в каталог и в перечень полок, спросив его номер, тип, имя владельца и номер полки, на котором он будет храниться. Корректно обработайте ситуацию, когда пользователь будет пытаться добавить документ на несуществующую полку."
   ]
  },
  {
   "cell_type": "code",
   "execution_count": 38,
   "metadata": {
    "scrolled": false
   },
   "outputs": [
    {
     "name": "stdout",
     "output_type": "stream",
     "text": [
      "{'type': 'passport', 'number': '2207 876234', 'name': 'Василий Гупкин'}\n",
      "{'type': 'invoice', 'number': '11-2', 'name': 'Геннадий Покемонов'}\n",
      "{'type': 'insurance', 'number': '10006', 'name': 'Аристарх Павлов'}\n",
      "1 ['2207 876234', '11-2']\n",
      "2 ['10006']\n",
      "3 []\n",
      "Введите команду\n",
      "m\n",
      "Введите номер документа 10006\n",
      "Введите номер целевой полки 3\n",
      "1 ['2207 876234', '11-2']\n",
      "2 []\n",
      "3 ['10006']\n",
      "Введите команду\n",
      "m\n",
      "Введите номер документа 10006\n",
      "Введите номер целевой полки 4\n",
      "Полки не существует\n",
      "Введите команду\n",
      "m\n",
      "Введите номер документа 1231\n",
      "Документа не существует\n",
      "Введите команду\n",
      "x\n"
     ]
    }
   ],
   "source": [
    "documents = [\n",
    "   {'type': 'passport', 'number': '2207 876234', 'name': 'Василий Гупкин'},\n",
    "   {'type': 'invoice', 'number': '11-2', 'name': 'Геннадий Покемонов'},\n",
    "   {'type': 'insurance', 'number': '10006', 'name': 'Аристарх Павлов'}\n",
    "]\n",
    "\n",
    "directories = {\n",
    "    '1': ['2207 876234', '11-2'],\n",
    "    '2': ['10006'],\n",
    "    '3': []\n",
    "}\n",
    "\n",
    "def print_documents(documents):\n",
    "    for doc in documents:\n",
    "        print(doc)\n",
    "print_documents(documents)\n",
    "\n",
    "def print_directories(directories):\n",
    "    for key,value in directories.items():\n",
    "        print(key,value)\n",
    "print_directories(directories)\n",
    "\n",
    "def add_shelf(directories):\n",
    "    print_directories(directories)\n",
    "    shelf = input('Введите номер новой полки\\n')\n",
    "    if int(shelf) > len(directories):\n",
    "        directories[int(shelf)] = []\n",
    "    else:\n",
    "        print('Такая полка уже существует')\n",
    "    print_directories(directories)\n",
    "\n",
    "def print_shelf(directories):\n",
    "    num = input('Введите номер документа\\n')\n",
    "    result = ''\n",
    "    for shelf in directories:\n",
    "        if num in directories[shelf]:\n",
    "            result = shelf\n",
    "    print(f'Документ лежит на полке {result}')  \n",
    "\n",
    "def add(documents):\n",
    "    d_type = input('Введите тип документа\\n')\n",
    "    d_num = input('Введите номер документа\\n')\n",
    "    d_name = input('Имя владельца\\n')\n",
    "    d_shelf = input('Введите номер полки\\n')\n",
    "    if d_shelf not in directories:\n",
    "        print('Такой полки не существует\\n')\n",
    "        add_shelf()\n",
    "    new = {'type': d_type, 'number': d_num, 'name': d_name}\n",
    "    documents.append(new)\n",
    "    print_documents(documents)\n",
    "    \n",
    "def print_people(documents):\n",
    "    num = input('Введите номер документа\\n')\n",
    "    result = ''\n",
    "    for doc in documents:\n",
    "        if doc['number'] == num:\n",
    "            result = doc['name']\n",
    "    print(f'Документ принадлежит {result}')      \n",
    "\n",
    "def delete(documents, directories):\n",
    "    print('Каталог до удаления')\n",
    "    print('Документы')\n",
    "    print_documents(documents)\n",
    "    print('Полки')\n",
    "    print_directories(directories)\n",
    "    num = input('Введите номер документа ')\n",
    "    result = ''\n",
    "    i = 0\n",
    "    deleting = 0\n",
    "    for doc in documents:\n",
    "        if doc['number'] == num:\n",
    "            documents.pop(i)\n",
    "            deleting = 1\n",
    "        else:\n",
    "            i += 1\n",
    "    if deleting == 0:\n",
    "        print(f'Документа не существует')\n",
    "    else:\n",
    "        del_shelf = ''\n",
    "    for key,directori in directories.items():\n",
    "        if num in directori:\n",
    "            del_shelf = key\n",
    "            directories[del_shelf].remove(num)\n",
    "    print('Каталог после удаления')\n",
    "    print('Документы')\n",
    "    print_documents(documents)\n",
    "    print('Полки')\n",
    "    print_directories(directories)    \n",
    "\n",
    "def print_list(documents):\n",
    "    for doc in documents:\n",
    "        print('{0} \"{1}\" \"{2}\"'.format(doc['type'], doc['number'], doc['name']))\n",
    "\n",
    "def move(documents, directories):\n",
    "    num = input('Введите номер документа ')\n",
    "    check_doc = False\n",
    "    for doc in documents:\n",
    "        if doc['number'] == num:\n",
    "            check_doc = True\n",
    "    if check_doc == False:\n",
    "        print('Документа не существует')\n",
    "        return\n",
    "    shelf = input('Введите номер целевой полки ')\n",
    "    if shelf not in directories:\n",
    "        print('Полки не существует')\n",
    "        return\n",
    "    \n",
    "    for shelfs in directories:\n",
    "        if num in directories[shelfs]:\n",
    "            directories[shelf].append(num)\n",
    "            directories[shelfs].remove(num)\n",
    "    print_directories(directories)\n",
    "    \n",
    "def main():\n",
    "    while True:\n",
    "        user_input = input('Введите команду\\n')\n",
    "        if user_input == 'p':\n",
    "            print_people(documents)\n",
    "        elif user_input == 's':\n",
    "            print_shelf(directories)\n",
    "        elif user_input == 'l':\n",
    "            print_list(documents)\n",
    "        elif user_input == 'as':\n",
    "            add_shelf(directories)\n",
    "        elif user_input == 'd':\n",
    "            delete(documents, directories)\n",
    "        elif user_input == 'm':\n",
    "            move(documents, directories)\n",
    "        elif user_input == 'a':\n",
    "            add(documents)\n",
    "        else:\n",
    "            break\n",
    "main()"
   ]
  },
  {
   "cell_type": "code",
   "execution_count": null,
   "metadata": {},
   "outputs": [],
   "source": []
  }
 ],
 "metadata": {
  "kernelspec": {
   "display_name": "Python 3",
   "language": "python",
   "name": "python3"
  },
  "language_info": {
   "codemirror_mode": {
    "name": "ipython",
    "version": 3
   },
   "file_extension": ".py",
   "mimetype": "text/x-python",
   "name": "python",
   "nbconvert_exporter": "python",
   "pygments_lexer": "ipython3",
   "version": "3.8.3"
  }
 },
 "nbformat": 4,
 "nbformat_minor": 4
}
